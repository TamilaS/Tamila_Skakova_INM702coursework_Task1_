{
 "cells": [
  {
   "cell_type": "markdown",
   "id": "40da37bb",
   "metadata": {},
   "source": [
    "# Task 1 - INM702 Coursework"
   ]
  },
  {
   "cell_type": "markdown",
   "id": "4f05b0bc",
   "metadata": {},
   "source": [
    "## Content:\n",
    "- **[Part 1](#part1)- Heuristic approach**\n",
    "- [Part 1.1](#part1.1)- Visualisation of heuristic approach\n",
    "- **[Part 2](#part2)- Djikstra algorithm implementation on heuristic approach**\n",
    "- [Part 2.1](#part2.1)- Visualisation of implementation of Djikstra algorithm"
   ]
  },
  {
   "cell_type": "markdown",
   "id": "34971f7d",
   "metadata": {},
   "source": [
    "[Back to top](#Content:)\n",
    "\n",
    "\n",
    "<a id='part1'></a>\n",
    "## Heuristic algorithm"
   ]
  },
  {
   "cell_type": "code",
   "execution_count": null,
   "id": "e20a67f8",
   "metadata": {},
   "outputs": [],
   "source": [
    "#Build a method to build and visualize the grid filled with random numbers.\n",
    "import random\n",
    "import numpy as np\n",
    "from matplotlib.colors import ListedColormap\n",
    "import matplotlib.pyplot as plt"
   ]
  },
  {
   "cell_type": "code",
   "execution_count": null,
   "id": "7af0d661",
   "metadata": {
    "scrolled": true
   },
   "outputs": [],
   "source": [
    "HEIGHT = int(input(\"Insert amount of rows in the grid \"))\n",
    "WIDTH = int(input(\"Insert amount of columns in the grid \"))"
   ]
  },
  {
   "cell_type": "code",
   "execution_count": null,
   "id": "3bb5a1bd",
   "metadata": {
    "scrolled": true
   },
   "outputs": [],
   "source": [
    "ARRAY = np.random.randint(0,9, (HEIGHT, WIDTH))\n",
    "print(ARRAY)\n",
    "[7, 1, 5, 3, 4, 1, 6, 5, 5, 3, 1, 1, 1, 8, 4, 0, 0, 3, 3, 5, 7, 6, 3, 5,\n",
    " 1, 4, 0, 3, 1, 1, 0, 6, 1, 2, 5, 7, 6, 2, 4, 0, 1, 2, 6, 2, 4, 1, 6, 3, 0, 0, 0, 5, 1, 6, 3, 6, 1, 8, 6]"
   ]
  },
  {
   "cell_type": "code",
   "execution_count": null,
   "id": "c49bd3eb",
   "metadata": {},
   "outputs": [],
   "source": [
    "#finding neihbour in the grid for each cell\n",
    "#agent moves from cell to cell (u,d,l,r)\n",
    "def f_neighbours(array, i, j):\n",
    "    neighbours_k = []\n",
    "    neighbours_v = []\n",
    "    while True:\n",
    "        if i >= HEIGHT or j >= WIDTH:\n",
    "            False\n",
    "            \n",
    "        #neighbors search goes cloclwise:\n",
    "        elif i == 0 or i == (HEIGHT-1) or j == 0 or j == (WIDTH - 1):    # corners and sides\n",
    "            \n",
    "#             if i != 0:\n",
    "#                 neighbours_k.append(array[i - 1, j])\n",
    "#                 neighbours_v.append((i - 1,j)) # u\n",
    "                \n",
    "            if j != (WIDTH - 1):             \n",
    "                neighbours_k.append(array[i, j+1])\n",
    "                neighbours_v.append((i, j+1))#r\n",
    "                \n",
    "            if i != (HEIGHT-1):\n",
    "                neighbours_k.append(array[i+1,j])\n",
    "                neighbours_v.append((i+1, j))#d\n",
    "                \n",
    "\n",
    "        elif i < HEIGHT and j < WIDTH:\n",
    "            neighbours_k = [array[i, j + 1], array[i + 1, j]]  # eliminated up neighbour - array[i - 1, j] \n",
    "            neighbours_v = [(i,j + 1), (i + 1,j)]  #eliminated up neighbour - (i - 1,j)\n",
    "        return neighbours_k, neighbours_v\n",
    "\n",
    "\n",
    "# neighbours = f_neighbours(array=ARRAY, i=2,j=1)\n",
    "# # neighbours = neighbours(ARRAY, 0, 0)\n",
    "# print(neighbours)\n",
    "# type(neighbours)\n",
    "# ks= neighbours[0]\n",
    "# vs = neighbours[1]\n",
    "# print(ks)\n",
    "# print(vs)"
   ]
  },
  {
   "cell_type": "code",
   "execution_count": null,
   "id": "49f9c14a",
   "metadata": {},
   "outputs": [],
   "source": [
    "# finds the minimum weight \n",
    "\n",
    "def f_cell (ks):\n",
    "    min_val=min(ks)\n",
    "    return min_val\n",
    "        \n",
    "# a = f_min(ks)\n",
    "# print(a)\n"
   ]
  },
  {
   "cell_type": "code",
   "execution_count": null,
   "id": "f13ccda8",
   "metadata": {},
   "outputs": [],
   "source": [
    "#finds key value index in the list \"ks\", so that that index position can be used to get the (i,j) location in the \"vs\" list\n",
    "def f_location (ks, a):\n",
    "    location = ks.index(a)\n",
    "    return location"
   ]
  },
  {
   "cell_type": "code",
   "execution_count": null,
   "id": "0e207be4",
   "metadata": {},
   "outputs": [],
   "source": [
    "# find the row i position\n",
    "def first(vs, idex_pos):\n",
    "    location = vs[idex_pos]\n",
    "#     print(location)\n",
    "    i = location[0]\n",
    "    return i\n",
    "\n",
    "\n",
    "# i = first(neighbours, cell)\n",
    "# print(i)\n",
    "# print(type(i))"
   ]
  },
  {
   "cell_type": "code",
   "execution_count": null,
   "id": "cdd1f978",
   "metadata": {},
   "outputs": [],
   "source": [
    "# find the column j position\n",
    "def second (vs, idex_pos):\n",
    "    location = vs[idex_pos]\n",
    "    j = location[1]\n",
    "    return j\n",
    "\n",
    "# j = second(neighbours, cell)\n",
    "# print(j)\n",
    "# print(type(j))END = ARRAY[HEIGHT - 1, WIDTH - 1]"
   ]
  },
  {
   "cell_type": "code",
   "execution_count": null,
   "id": "2519eff7",
   "metadata": {},
   "outputs": [],
   "source": [
    "# test game\n",
    "game_is_on = True\n",
    "\n",
    "score = []\n",
    "\n",
    "next_cell = ARRAY[0, 0]\n",
    "score.append(next_cell)\n",
    "neighbours = {next_cell: (0, 0)}\n",
    "\n",
    "prev_cell = ARRAY[0, 0]\n",
    "prev_l = [(0, 0)]\n",
    "\n",
    "i=0\n",
    "j=0"
   ]
  },
  {
   "cell_type": "code",
   "execution_count": null,
   "id": "4040d9a5",
   "metadata": {},
   "outputs": [],
   "source": [
    "while game_is_on:\n",
    "\n",
    "    neighbours = f_neighbours(ARRAY, i, j) #finds all neighbours\n",
    "    ks= neighbours[0] # list , which keeps record of the key value of the neighbour - its weight\n",
    "    vs = neighbours[1] # list , which keeps record of the value (location) of the neighbour - (i,j)\n",
    "   \n",
    "    # if final destination is the neighbour, go straight to that cell (HEIGHT-1, WIDTH-1)\n",
    "    if (HEIGHT-1, WIDTH-1) in vs:\n",
    "        next_cell = ARRAY[HEIGHT-1, WIDTH-1]\n",
    "        score.append(next_cell)\n",
    "        index_pos = f_location(ks, next_cell)\n",
    "        prev_l.append(vs[index_pos])\n",
    "        game_is_on = False\n",
    "    \n",
    "    else:\n",
    "        next_cell = f_cell(ks) #finding the minimum value cell\n",
    "        index_pos = f_location(ks, next_cell)\n",
    "    \n",
    "        #if the smallest one  - the previous one, chose the other smallest\n",
    "        if vs[index_pos] in prev_l:\n",
    "            ks.remove(next_cell)\n",
    "            del(vs[index_pos])\n",
    "            next_cell = f_cell(ks)\n",
    "            index_pos = f_location(ks, next_cell)\n",
    "\n",
    "\n",
    "        score.append(next_cell)\n",
    "\n",
    "        prev_cell=next_cell\n",
    "        prev_l.append(vs[index_pos])\n",
    "\n",
    "        i = first(vs, index_pos)\n",
    "        j = second(vs, index_pos)\n",
    "\n",
    "    \n",
    "# print(score)\n",
    "# len(score)"
   ]
  },
  {
   "cell_type": "code",
   "execution_count": null,
   "id": "1c143414",
   "metadata": {},
   "outputs": [],
   "source": [
    "total = sum(score)  #sum of the list with weight of each step\n",
    "print (f\"End of the game. Your final score is {total}\")"
   ]
  },
  {
   "cell_type": "code",
   "execution_count": null,
   "id": "3f6d8bc7",
   "metadata": {},
   "outputs": [],
   "source": [
    "# print(prev_l)\n",
    "print(score)"
   ]
  },
  {
   "cell_type": "markdown",
   "id": "24997995",
   "metadata": {},
   "source": [
    "[Back to top](#Content:)\n",
    "\n",
    "\n",
    "<a id='part1.1'></a>\n",
    "## Visualisation of heuristic approach"
   ]
  },
  {
   "cell_type": "code",
   "execution_count": null,
   "id": "20c429c1",
   "metadata": {},
   "outputs": [],
   "source": [
    "fig = plt.figure()\n",
    "ax = fig.add_subplot(111)\n",
    "\n",
    "colored_path = np.zeros((HEIGHT,WIDTH), dtype=int)\n",
    "\n",
    "for list in prev_l:\n",
    "    r= list[0]\n",
    "    c = list[1]\n",
    "    colored_path[r,c] = 1\n",
    "# print(colored_path)\n",
    "\n",
    "\n",
    "min_val, max_val = 0, HEIGHT\n",
    "for i in range(max_val):\n",
    "    for j in range(max_val):\n",
    "      c = ARRAY[j,i]\n",
    "      ax.text(i, j, str(c), va='center', ha='center')\n",
    "\n",
    "cax = ax.matshow(colored_path, cmap = plt.cm.Reds)\n",
    "plt.show()"
   ]
  },
  {
   "cell_type": "markdown",
   "id": "ad560d85",
   "metadata": {},
   "source": [
    "[Back to top](#Content:)\n",
    "\n",
    "\n",
    "<a id='part2'></a>\n",
    "## Djikstra algorithm implementation on heuristic approach\n",
    "Implementation of heuristic approach for Gjikstra algorithm to find the shortest path"
   ]
  },
  {
   "cell_type": "code",
   "execution_count": 1,
   "id": "9afb65b7",
   "metadata": {},
   "outputs": [],
   "source": [
    "#Build a method to build and visualize the grid filled with random numbers.\n",
    "import random\n",
    "import numpy as np\n",
    "from matplotlib.colors import ListedColormap\n",
    "import matplotlib.pyplot as plt"
   ]
  },
  {
   "cell_type": "code",
   "execution_count": 3,
   "id": "02abe4af",
   "metadata": {
    "scrolled": false
   },
   "outputs": [
    {
     "name": "stdout",
     "output_type": "stream",
     "text": [
      "Insert amount of rows in the grid 10\n",
      "Insert amount of columns in the grid 10\n"
     ]
    }
   ],
   "source": [
    "HEIGHT = int(input(\"Insert amount of rows in the grid \"))\n",
    "WIDTH = int(input(\"Insert amount of columns in the grid \"))"
   ]
  },
  {
   "cell_type": "code",
   "execution_count": 4,
   "id": "92676360",
   "metadata": {
    "scrolled": true
   },
   "outputs": [
    {
     "name": "stdout",
     "output_type": "stream",
     "text": [
      "[[0 8 5 3 8 3 4 0 4 6]\n",
      " [3 3 6 1 4 7 3 5 6 6]\n",
      " [5 0 5 1 7 6 8 2 0 5]\n",
      " [3 0 3 8 7 5 8 2 5 5]\n",
      " [2 6 7 6 7 8 4 0 8 8]\n",
      " [0 0 5 0 6 6 0 3 0 7]\n",
      " [4 5 2 5 2 3 6 0 5 4]\n",
      " [1 1 5 2 8 2 5 8 3 8]\n",
      " [4 5 4 1 7 4 4 5 8 0]\n",
      " [4 0 8 6 6 8 4 3 7 5]]\n"
     ]
    }
   ],
   "source": [
    "ARRAY = np.random.randint(0,9, (HEIGHT, WIDTH))\n",
    "print(ARRAY)"
   ]
  },
  {
   "cell_type": "code",
   "execution_count": 5,
   "id": "12c6a949",
   "metadata": {},
   "outputs": [],
   "source": [
    "#finding neihbour in the grid for each cell\n",
    "#agent moves from cell to cell (u,d,l,r)\n",
    "def f_neighbours(array, i, j):\n",
    "    neighbours_k = []\n",
    "    neighbours_v = []\n",
    "    while True:\n",
    "        if i >= HEIGHT or j >= WIDTH:\n",
    "            False\n",
    "            \n",
    "        #neighbors search goes cloclwise:\n",
    "        elif i == 0 or i == (HEIGHT-1) or j == 0 or j == (WIDTH - 1):    # corners and sides\n",
    "            \n",
    "            if i != 0:\n",
    "                neighbours_k.append(array[i - 1, j])\n",
    "                neighbours_v.append((i - 1,j)) # u\n",
    "                \n",
    "            if j != (WIDTH - 1):             \n",
    "                neighbours_k.append(array[i, j+1])\n",
    "                neighbours_v.append((i, j+1))#r\n",
    "                \n",
    "            if i != (HEIGHT-1):\n",
    "                neighbours_k.append(array[i+1,j])\n",
    "                neighbours_v.append((i+1, j))#d\n",
    "                                    \n",
    "            if j != 0:                  \n",
    "                neighbours_k.append(array[i, j-1]) # l\n",
    "                neighbours_v.append((i,j - 1)) \n",
    "                \n",
    "\n",
    "        elif i < HEIGHT and j < WIDTH:\n",
    "            neighbours_k = [array[i - 1, j], array[i, j + 1], array[i + 1, j], array[i, j - 1]]\n",
    "            neighbours_v = [(i - 1,j), (i,j + 1), (i + 1,j), (i,j - 1)]\n",
    "        return neighbours_k, neighbours_v\n",
    "\n",
    "\n",
    "# neighbours = f_neighbours(array=ARRAY, i=2,j=1)\n",
    "# # neighbours = neighbours(ARRAY, 0, 0)\n",
    "# print(neighbours)\n",
    "# type(neighbours)\n",
    "# ks= neighbours[0]\n",
    "# vs = neighbours[1]\n",
    "# print(ks)\n",
    "# print(vs)"
   ]
  },
  {
   "cell_type": "code",
   "execution_count": 6,
   "id": "52064cd5",
   "metadata": {},
   "outputs": [],
   "source": [
    "# finds the minimum weight \n",
    "\n",
    "def f_cell (ks):\n",
    "    min_val=min(ks)\n",
    "    return min_val\n",
    "        \n",
    "# a = f_min(ks)\n",
    "# print(a)\n"
   ]
  },
  {
   "cell_type": "code",
   "execution_count": 7,
   "id": "58e70807",
   "metadata": {},
   "outputs": [],
   "source": [
    "#finds key value index in the list \"ks\", so that that index position can be used to get the (i,j) location in the \"vs\" list\n",
    "def f_location (ks, a):\n",
    "    location = ks.index(a)\n",
    "    return location"
   ]
  },
  {
   "cell_type": "code",
   "execution_count": 8,
   "id": "22b0cbc0",
   "metadata": {},
   "outputs": [],
   "source": [
    "# find the row i position\n",
    "def first(vs, idex_pos):\n",
    "    location = vs[idex_pos]\n",
    "#     print(location)\n",
    "    i = location[0]\n",
    "    return i\n",
    "\n",
    "\n",
    "# i = first(neighbours, cell)\n",
    "# print(i)\n",
    "# print(type(i))"
   ]
  },
  {
   "cell_type": "code",
   "execution_count": 9,
   "id": "c0a5735b",
   "metadata": {},
   "outputs": [],
   "source": [
    "# find the column j position\n",
    "def second (vs, idex_pos):\n",
    "    location = vs[idex_pos]\n",
    "    j = location[1]\n",
    "    return j\n",
    "\n",
    "# j = second(neighbours, cell)\n",
    "# print(j)\n",
    "# print(type(j))END = ARRAY[HEIGHT - 1, WIDTH - 1]"
   ]
  },
  {
   "cell_type": "code",
   "execution_count": 10,
   "id": "51ca39d6",
   "metadata": {},
   "outputs": [],
   "source": [
    "# test game\n",
    "game_is_on = True\n",
    "\n",
    "score = []\n",
    "\n",
    "next_cell = ARRAY[0, 0]\n",
    "score.append(next_cell)\n",
    "neighbours = {next_cell: (0, 0)}\n",
    "\n",
    "prev_cell = ARRAY[0, 0]\n",
    "prev_l = [(0, 0)]\n",
    "\n",
    "i=0\n",
    "j=0"
   ]
  },
  {
   "cell_type": "code",
   "execution_count": 16,
   "id": "e40da663",
   "metadata": {},
   "outputs": [
    {
     "name": "stdout",
     "output_type": "stream",
     "text": [
      "[0, 7]\n"
     ]
    }
   ],
   "source": [
    "while game_is_on:\n",
    "\n",
    "    neighbours = f_neighbours(ARRAY, i, j) #finds all neighbours\n",
    "    ks= neighbours[0] #key values - the \"weight\"\n",
    "    vs = neighbours[1] # values - the location(i,j)\n",
    "   \n",
    "#     print(ks)\n",
    "#     print(vs)\n",
    "    #if next_cell is our destination cell then the program stops\n",
    "    if (HEIGHT-1, WIDTH-1) in vs:\n",
    "        next_cell = ARRAY[HEIGHT-1, WIDTH-1]\n",
    "        score.append(next_cell)\n",
    "        index_pos = f_location(ks, next_cell)\n",
    "        prev_l.append(vs[index_pos])\n",
    "        game_is_on = False\n",
    "        \n",
    "    else:\n",
    "        next_cell = f_cell(ks) #finding the minimum value cell\n",
    "        index_pos = f_location(ks, next_cell)\n",
    "        \n",
    "        \n",
    "\n",
    "     #if the smallest one  - the previous one, chose the other smallest\n",
    "#         for _ in itertools.repeat(None, (len(neighbours))):\n",
    "#         for _ in range (len(neighbours)): # number of neighbours need to be tested for the \"visited\" status\n",
    "   \n",
    "        if vs[index_pos] in prev_l:\n",
    "            ks.remove(next_cell)\n",
    "            del(vs[index_pos])\n",
    "            next_cell = f_cell(ks)\n",
    "            index_pos = f_location(ks, next_cell)\n",
    "\n",
    "\n",
    "#         if vs[index_pos] in prev_l:\n",
    "#             ks.remove(next_cell)\n",
    "#             del(vs[index_pos])\n",
    "#             next_cell = f_cell(ks)\n",
    "#             index_pos = f_location(ks, next_cell)\n",
    "\n",
    "\n",
    "#         if vs[index_pos] in prev_l:\n",
    "#             ks.remove(next_cell)\n",
    "#             del(vs[index_pos])\n",
    "#             next_cell = f_cell(ks)\n",
    "#             index_pos = f_location(ks, next_cell)\n",
    "\n",
    "\n",
    "        #if the smallest one is on the side, eleminate that neigbour to \n",
    "#         if (vs[index_pos][0] == 0 and vs[index_pos][1] == j-1) or (vs[index_pos][0] == (WIDTH-1) and vs[index_pos][1] == j-1) or (vs[index_pos][0] == (i-1) and vs[index_pos][1] == HEIGHT-1) or (vs[index_pos][0] == (i-1) and vs[index_pos][1] == 0):\n",
    "#         if ((vs[index_pos][0] >= 0 and vs[index_pos][0] <= (WIDTH-1)) and (vs[index_pos][1] == 0 or vs[index_pos][1] == (HEIGHT-1))):\n",
    "#             ks.remove(next_cell)\n",
    "#             del(vs[index_pos])\n",
    "#             next_cell = f_cell(ks)\n",
    "#             index_pos = f_location(ks, next_cell)\n",
    "            \n",
    "#         if ((vs[index_pos][1] >= 0 and vs[index_pos][1] <= (HEIGHT-1)) and ((vs[index_pos][0] == 0 or vs[index_pos][0] == (WIFTH-1)))):\n",
    "#             ks.remove(next_cell)\n",
    "#             del(vs[index_pos])\n",
    "#             next_cell = f_cell(ks)\n",
    "#             index_pos = f_location(ks, next_cell)\n",
    "            \n",
    "            \n",
    "        #if the smallest one closer to the end, proceed further, not to backwards(left)\n",
    "        if (vs[index_pos][0] >= (2/3*(WIDTH-1))) or (vs[index_pos][1] >= (2/3*(HEIGHT-1))):\n",
    "            ks.remove(next_cell)\n",
    "            del(vs[index_pos])\n",
    "            next_cell = f_cell(ks)\n",
    "            index_pos = f_location(ks, next_cell)\n",
    "\n",
    "        score.append(next_cell)\n",
    "\n",
    "        prev_cell=next_cell\n",
    "        prev_l.append(vs[index_pos])\n",
    "\n",
    "        i = first(vs, index_pos)\n",
    "        j = second(vs, index_pos)\n",
    "        print(score)\n",
    "\n",
    "\n",
    "# print(score)\n",
    "# len(score)"
   ]
  },
  {
   "cell_type": "code",
   "execution_count": 17,
   "id": "d5d6d4dd",
   "metadata": {},
   "outputs": [
    {
     "name": "stdout",
     "output_type": "stream",
     "text": [
      "[0, 7, 5]\n",
      "End of the game. Your final score for mode 1 is 12\n"
     ]
    }
   ],
   "source": [
    "total_mode1 = sum(score)  #final path - is the sum of the list with weight of each step\n",
    "print(score)\n",
    "print (f\"End of the game. Your final score for mode 1 is {total_mode1}\")"
   ]
  },
  {
   "cell_type": "code",
   "execution_count": 18,
   "id": "c023f3ba",
   "metadata": {},
   "outputs": [
    {
     "name": "stdout",
     "output_type": "stream",
     "text": [
      "End of the game. Your final score for mode 2 is 9\n"
     ]
    }
   ],
   "source": [
    "total_mode2 = 0  #final path - is the sum of the absolute difference of the previous and current cell \n",
    "for i in range(len(score)-1):\n",
    "    n = abs((score[i+1])-score[i])\n",
    "    score[i]=0\n",
    "    total_mode2 += n\n",
    "    score[i+1]=total_mode2\n",
    "#     print(total_mode2)\n",
    "#     print(score)\n",
    "print (f\"End of the game. Your final score for mode 2 is {total_mode2}\")"
   ]
  },
  {
   "cell_type": "markdown",
   "id": "f363a95c",
   "metadata": {},
   "source": [
    "[Back to top](#Content:)\n",
    "\n",
    "\n",
    "<a id='part2.1'></a>\n",
    "## Visualisation of implementation of Djikstra algorithm"
   ]
  },
  {
   "cell_type": "code",
   "execution_count": 19,
   "id": "670ee583",
   "metadata": {},
   "outputs": [
    {
     "data": {
      "image/png": "[encoded data removed]",
      "text/plain": [
       "<Figure size 432x288 with 1 Axes>"
      ]
     },
     "metadata": {
      "needs_background": "light"
     },
     "output_type": "display_data"
    }
   ],
   "source": [
    "# path = [list(x) for x in prev_l]\n",
    "# type(path)\n",
    "fig = plt.figure()\n",
    "ax = fig.add_subplot(111)\n",
    "\n",
    "colored_path = np.zeros((HEIGHT,WIDTH), dtype=int)\n",
    "\n",
    "for list in prev_l:\n",
    "    r= list[0]\n",
    "    c = list[1]\n",
    "    colored_path[r,c] = 1\n",
    "# print(colored_path)\n",
    "\n",
    "\n",
    "min_val, max_val = 0, HEIGHT\n",
    "for i in range(max_val):\n",
    "    for j in range(max_val):\n",
    "      c = ARRAY[j,i]\n",
    "      ax.text(i, j, str(c), va='center', ha='center')\n",
    "\n",
    "cax = ax.matshow(colored_path, cmap = plt.cm.Reds)\n",
    "plt.show()"
   ]
  },
  {
   "cell_type": "code",
   "execution_count": null,
   "id": "79b6218b",
   "metadata": {},
   "outputs": [],
   "source": []
  }
 ],
 "metadata": {
  "kernelspec": {
   "display_name": "Python 3 (ipykernel)",
   "language": "python",
   "name": "python3"
  },
  "language_info": {
   "codemirror_mode": {
    "name": "ipython",
    "version": 3
   },
   "file_extension": ".py",
   "mimetype": "text/x-python",
   "name": "python",
   "nbconvert_exporter": "python",
   "pygments_lexer": "ipython3",
   "version": "3.8.8"
  }
 },
 "nbformat": 4,
 "nbformat_minor": 5
}
