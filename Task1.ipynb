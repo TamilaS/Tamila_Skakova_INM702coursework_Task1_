{
 "cells": [
  {
   "cell_type": "markdown",
   "id": "40da37bb",
   "metadata": {},
   "source": [
    "# Task 1 - INM702 Coursework"
   ]
  },
  {
   "cell_type": "markdown",
   "id": "4f05b0bc",
   "metadata": {},
   "source": [
    "## Content:\n",
    "- **[Part 1](#part1)- Heuristic approach**\n",
    "- [Part 1.1](#part1.1)- Visualisation of heuristic approach\n",
    "- **[Part 2](#part2)- Djikstra algorithm implementation on heuristic approach with 2 modes of the game**\n",
    "- [Part 2.1](#part2.1)- Visualisation of implementation of Djikstra algorithm"
   ]
  },
  {
   "cell_type": "markdown",
   "id": "34971f7d",
   "metadata": {},
   "source": [
    "[Back to top](#Content:)\n",
    "\n",
    "\n",
    "<a id='part1'></a>\n",
    "## Heuristic algorithm"
   ]
  },
  {
   "cell_type": "code",
   "execution_count": 1,
   "id": "e20a67f8",
   "metadata": {},
   "outputs": [],
   "source": [
    "#Build a method to build and visualize the grid filled with random numbers.\n",
    "import random\n",
    "import numpy as np\n",
    "from matplotlib.colors import ListedColormap\n",
    "import matplotlib.pyplot as plt"
   ]
  },
  {
   "cell_type": "code",
   "execution_count": 2,
   "id": "7af0d661",
   "metadata": {
    "scrolled": true
   },
   "outputs": [
    {
     "name": "stdout",
     "output_type": "stream",
     "text": [
      "Insert amount of rows in the grid 20\n",
      "Insert amount of columns in the grid 20\n"
     ]
    }
   ],
   "source": [
    "HEIGHT = int(input(\"Insert amount of rows in the grid \"))\n",
    "WIDTH = int(input(\"Insert amount of columns in the grid \"))"
   ]
  },
  {
   "cell_type": "code",
   "execution_count": 3,
   "id": "3bb5a1bd",
   "metadata": {
    "scrolled": true
   },
   "outputs": [
    {
     "name": "stdout",
     "output_type": "stream",
     "text": [
      "[[2 6 7 7 4 6 4 5 1 4 3 7 1 2 8 2 3 5 6 2]\n",
      " [3 2 2 8 5 2 2 0 1 1 5 7 7 4 2 5 4 5 4 4]\n",
      " [4 8 1 8 1 7 3 0 7 8 8 8 6 4 6 2 2 5 7 6]\n",
      " [5 0 0 0 8 2 8 2 1 4 5 2 4 3 0 2 3 2 0 6]\n",
      " [5 3 0 0 3 5 4 4 6 4 7 8 1 4 5 6 1 6 8 8]\n",
      " [4 7 5 1 5 7 5 1 2 1 1 2 4 1 5 3 7 6 6 5]\n",
      " [4 8 8 3 4 0 1 3 3 5 2 4 2 6 6 8 8 4 3 6]\n",
      " [8 4 3 2 6 1 3 8 6 7 5 6 8 8 4 3 3 1 0 0]\n",
      " [2 7 5 6 8 2 8 1 6 2 5 4 1 2 1 6 8 3 7 3]\n",
      " [3 8 7 3 4 3 7 0 1 6 0 1 5 8 4 5 3 4 6 5]\n",
      " [6 4 8 4 5 6 7 5 4 8 1 4 8 4 5 3 8 5 5 3]\n",
      " [2 7 6 7 5 5 5 3 0 0 5 4 2 6 0 7 5 8 6 6]\n",
      " [3 3 2 8 1 8 2 4 0 0 0 1 2 5 3 6 3 2 8 8]\n",
      " [8 6 5 1 0 3 3 5 2 7 5 2 5 8 4 7 2 7 1 6]\n",
      " [5 0 5 5 2 7 5 2 8 2 4 3 4 1 5 3 4 7 8 6]\n",
      " [7 8 2 5 4 4 4 4 1 2 1 1 4 8 3 5 4 2 7 0]\n",
      " [4 0 1 0 0 3 8 2 5 5 1 4 4 5 1 6 6 7 3 3]\n",
      " [4 8 8 6 1 7 8 5 7 5 2 3 6 5 0 6 3 6 0 3]\n",
      " [6 5 6 0 7 5 8 8 0 6 7 0 5 7 8 0 3 5 8 2]\n",
      " [8 4 2 8 2 4 7 2 3 8 3 1 0 3 8 0 1 5 3 8]]\n"
     ]
    }
   ],
   "source": [
    "ARRAY = np.random.randint(0,9, (HEIGHT, WIDTH))\n",
    "print(ARRAY)"
   ]
  },
  {
   "cell_type": "code",
   "execution_count": 4,
   "id": "c49bd3eb",
   "metadata": {},
   "outputs": [],
   "source": [
    "#finding neihbour in the grid for each cell\n",
    "#agent moves from cell to cell (down and right in the heuristic approach)\n",
    "def f_neighbours(array, i, j):\n",
    "    neighbours_k = []\n",
    "    neighbours_v = []\n",
    "    while True:\n",
    "        if i >= HEIGHT or j >= WIDTH:\n",
    "            False\n",
    "            \n",
    "        #neighbors search goes cloclwise:\n",
    "        elif i == 0 or i == (HEIGHT-1) or j == 0 or j == (WIDTH - 1):    # corners and sides\n",
    "            \n",
    "            if j != (WIDTH - 1):             \n",
    "                neighbours_k.append(array[i, j+1])\n",
    "                neighbours_v.append((i, j+1))#r\n",
    "                \n",
    "            if i != (HEIGHT-1):\n",
    "                neighbours_k.append(array[i+1,j])\n",
    "                neighbours_v.append((i+1, j))#d\n",
    "                \n",
    "\n",
    "        elif i < HEIGHT and j < WIDTH:\n",
    "            neighbours_k = [array[i, j + 1], array[i + 1, j]]  \n",
    "            neighbours_v = [(i,j + 1), (i + 1,j)]  \n",
    "        return neighbours_k, neighbours_v\n"
   ]
  },
  {
   "cell_type": "code",
   "execution_count": 5,
   "id": "49f9c14a",
   "metadata": {},
   "outputs": [],
   "source": [
    "# finds the minimum weight \n",
    "\n",
    "def f_cell (ks):\n",
    "    min_val=min(ks)\n",
    "    return min_val\n",
    "        \n",
    "# a = f_min(ks)\n",
    "# print(a)"
   ]
  },
  {
   "cell_type": "code",
   "execution_count": 6,
   "id": "f13ccda8",
   "metadata": {},
   "outputs": [],
   "source": [
    "#finds key value index in the list \"ks\", so that that index position can be used to get the (i,j) location in the \"vs\" list\n",
    "def f_location (ks, a):\n",
    "    location = ks.index(a)\n",
    "    return location"
   ]
  },
  {
   "cell_type": "code",
   "execution_count": 7,
   "id": "0e207be4",
   "metadata": {},
   "outputs": [],
   "source": [
    "# find the row i position\n",
    "def first(vs, idex_pos):\n",
    "    location = vs[idex_pos]\n",
    "#     print(location)\n",
    "    i = location[0]\n",
    "    return i\n",
    "\n",
    "\n",
    "# i = first(neighbours, cell)\n",
    "# print(i)\n",
    "# print(type(i))"
   ]
  },
  {
   "cell_type": "code",
   "execution_count": 8,
   "id": "cdd1f978",
   "metadata": {},
   "outputs": [],
   "source": [
    "# find the column j position\n",
    "def second (vs, idex_pos):\n",
    "    location = vs[idex_pos]\n",
    "    j = location[1]\n",
    "    return j\n",
    "\n",
    "# j = second(neighbours, cell)\n",
    "# print(j)\n",
    "# print(type(j))END = ARRAY[HEIGHT - 1, WIDTH - 1]"
   ]
  },
  {
   "cell_type": "code",
   "execution_count": 9,
   "id": "2519eff7",
   "metadata": {},
   "outputs": [],
   "source": [
    "# test game\n",
    "game_is_on = True\n",
    "\n",
    "score = []\n",
    "\n",
    "next_cell = ARRAY[0, 0]\n",
    "score.append(next_cell)\n",
    "neighbours = {next_cell: (0, 0)}\n",
    "\n",
    "prev_cell = ARRAY[0, 0]\n",
    "prev_l = [(0, 0)]\n",
    "\n",
    "i=0\n",
    "j=0"
   ]
  },
  {
   "cell_type": "code",
   "execution_count": 10,
   "id": "4040d9a5",
   "metadata": {},
   "outputs": [],
   "source": [
    "while game_is_on:\n",
    "\n",
    "    neighbours = f_neighbours(ARRAY, i, j) #finds all neighbours\n",
    "    ks= neighbours[0] # list , which keeps record of the key value of the neighbour - its weight\n",
    "    vs = neighbours[1] # list , which keeps record of the value (location) of the neighbour - (i,j)\n",
    "   \n",
    "    # if final destination is the neighbour, go straight to that cell (HEIGHT-1, WIDTH-1)\n",
    "    if (HEIGHT-1, WIDTH-1) in vs:\n",
    "        score.append(ARRAY[HEIGHT-1, WIDTH-1])\n",
    "        prev_l.append([HEIGHT-1, WIDTH-1])\n",
    "        game_is_on = False\n",
    "    \n",
    "    else:\n",
    "        next_cell = f_cell(ks) #finding the minimum value cell\n",
    "        index_pos = f_location(ks, next_cell)\n",
    "    \n",
    "        #if the smallest one  - the previous one, chose the other smallest\n",
    "        if vs[index_pos] in prev_l:\n",
    "            ks.remove(next_cell)\n",
    "            del(vs[index_pos])\n",
    "            next_cell = f_cell(ks)\n",
    "            index_pos = f_location(ks, next_cell)\n",
    "\n",
    "\n",
    "        score.append(next_cell)\n",
    "\n",
    "        prev_cell=next_cell\n",
    "        prev_l.append(vs[index_pos])\n",
    "\n",
    "        i = first(vs, index_pos)\n",
    "        j = second(vs, index_pos)\n",
    "\n",
    "    \n",
    "# print(score)\n",
    "# len(score)"
   ]
  },
  {
   "cell_type": "code",
   "execution_count": 11,
   "id": "1c143414",
   "metadata": {},
   "outputs": [
    {
     "name": "stdout",
     "output_type": "stream",
     "text": [
      "End of the game. Your final score is 106\n"
     ]
    }
   ],
   "source": [
    "total = sum(score)  #sum of the list with weight of each step\n",
    "print (f\"End of the game. Your final score is {total}\")"
   ]
  },
  {
   "cell_type": "code",
   "execution_count": 12,
   "id": "3f6d8bc7",
   "metadata": {},
   "outputs": [],
   "source": [
    "# print(prev_l)\n",
    "# print(score)"
   ]
  },
  {
   "cell_type": "markdown",
   "id": "24997995",
   "metadata": {},
   "source": [
    "[Back to top](#Content:)\n",
    "\n",
    "\n",
    "<a id='part1.1'></a>\n",
    "## Visualisation of heuristic approach"
   ]
  },
  {
   "cell_type": "code",
   "execution_count": 13,
   "id": "20c429c1",
   "metadata": {},
   "outputs": [
    {
     "data": {
      "image/png": "[encoded data removed]",
      "text/plain": [
       "<Figure size 432x288 with 1 Axes>"
      ]
     },
     "metadata": {
      "needs_background": "light"
     },
     "output_type": "display_data"
    }
   ],
   "source": [
    "fig = plt.figure()\n",
    "ax = fig.add_subplot(111)\n",
    "\n",
    "colored_path = np.zeros((HEIGHT,WIDTH), dtype=int)\n",
    "\n",
    "for list in prev_l:\n",
    "    r= list[0]\n",
    "    c = list[1]\n",
    "    colored_path[r,c] = 1\n",
    "# print(colored_path)\n",
    "\n",
    "\n",
    "min_val, max_val = 0, HEIGHT\n",
    "for i in range(max_val):\n",
    "    for j in range(max_val):\n",
    "      c = ARRAY[j,i]\n",
    "      ax.text(i, j, str(c), va='center', ha='center')\n",
    "\n",
    "cax = ax.matshow(colored_path, cmap = plt.cm.Reds)\n",
    "plt.show()"
   ]
  },
  {
   "cell_type": "markdown",
   "id": "ad560d85",
   "metadata": {},
   "source": [
    "[Back to top](#Content:)\n",
    "\n",
    "\n",
    "<a id='part2'></a>\n",
    "## Djikstra algorithm implementation on heuristic approach with 2 modes of the game\n",
    "Implementation of heuristic approach for Gjikstra algorithm to find the shortest path"
   ]
  },
  {
   "cell_type": "code",
   "execution_count": 14,
   "id": "02abe4af",
   "metadata": {
    "scrolled": false
   },
   "outputs": [
    {
     "name": "stdout",
     "output_type": "stream",
     "text": [
      "Insert amount of rows in the grid 4\n",
      "Insert amount of columns in the grid 4\n",
      "Choose mode of the game: 1 - for the number on cell being the weight, and 2 - for the absolute difference 1\n"
     ]
    }
   ],
   "source": [
    "HEIGHT = int(input(\"Insert amount of rows in the grid \"))\n",
    "WIDTH = int(input(\"Insert amount of columns in the grid \"))\n",
    "game_mode = int(input(\"Choose mode of the game: 1 - for the number on cell being the weight, and 2 - for the absolute difference \"))"
   ]
  },
  {
   "cell_type": "code",
   "execution_count": 15,
   "id": "92676360",
   "metadata": {
    "scrolled": true
   },
   "outputs": [
    {
     "name": "stdout",
     "output_type": "stream",
     "text": [
      "[[0 4 7 3]\n",
      " [5 7 7 6]\n",
      " [0 6 2 0]\n",
      " [1 0 0 0]]\n"
     ]
    }
   ],
   "source": [
    "ARRAY = np.random.randint(0,9, (HEIGHT, WIDTH))\n",
    "print(ARRAY)"
   ]
  },
  {
   "cell_type": "code",
   "execution_count": 16,
   "id": "12c6a949",
   "metadata": {},
   "outputs": [],
   "source": [
    "#finding neihbour in the grid for each cell\n",
    "#agent moves from cell to cell (u,d,l,r)\n",
    "def f_neighbours(array, i, j):\n",
    "    neighbours_k = []\n",
    "    neighbours_v = []\n",
    "    while True:\n",
    "        if i >= HEIGHT or j >= WIDTH:\n",
    "            False\n",
    "            \n",
    "        #neighbors search goes cloclwise:\n",
    "        elif i == 0 or i == (HEIGHT-1) or j == 0 or j == (WIDTH - 1):    # corners and sides\n",
    "            \n",
    "            if i != 0:\n",
    "                neighbours_k.append(array[i - 1, j])\n",
    "                neighbours_v.append((i - 1,j)) # u\n",
    "                \n",
    "            if j != (WIDTH - 1):             \n",
    "                neighbours_k.append(array[i, j+1])\n",
    "                neighbours_v.append((i, j+1))#r\n",
    "                \n",
    "            if i != (HEIGHT-1):\n",
    "                neighbours_k.append(array[i+1,j])\n",
    "                neighbours_v.append((i+1, j))#d\n",
    "                                    \n",
    "#             if j != 0:                  \n",
    "#                 neighbours_k.append(array[i, j-1]) # l\n",
    "#                 neighbours_v.append((i,j - 1)) \n",
    "                \n",
    "\n",
    "        elif i < HEIGHT and j < WIDTH:\n",
    "            neighbours_k = [array[i - 1, j], array[i, j + 1], array[i + 1, j]]  #, array[i, j - 1]\n",
    "            neighbours_v = [(i - 1,j), (i,j + 1), (i + 1,j)]  #, (i,j - 1)\n",
    "        return neighbours_k, neighbours_v\n",
    "\n",
    "\n",
    "# neighbours = f_neighbours(array=ARRAY, i=2,j=1)\n",
    "# # neighbours = neighbours(ARRAY, 0, 0)\n",
    "# print(neighbours)\n",
    "# type(neighbours)\n",
    "# ks= neighbours[0]\n",
    "# vs = neighbours[1]\n",
    "# print(ks)\n",
    "# print(vs)"
   ]
  },
  {
   "cell_type": "code",
   "execution_count": 17,
   "id": "52064cd5",
   "metadata": {},
   "outputs": [],
   "source": [
    "#2 MODES OF THE GAME  \n",
    "def f_cell (ks):\n",
    "    min_val=min(ks)\n",
    "    return min_val\n",
    "\n",
    "def f_distance (ks, next_cell):\n",
    "    distance = []\n",
    "    for i in range(len(ks)):\n",
    "        n = ks[i] # each neighbour\n",
    "        d = abs(n - next_cell) #distance between neighbour and current cell\n",
    "        distance.append(d)\n",
    "    small_d = min(distance)\n",
    "    index_position = distance.index(small_d)\n",
    "    next_cell = ks[index_position]\n",
    "    return small_d, next_cell \n"
   ]
  },
  {
   "cell_type": "code",
   "execution_count": 18,
   "id": "58e70807",
   "metadata": {},
   "outputs": [],
   "source": [
    "#finds key value index in the list \"ks\", so that that index position can be used to get the (i,j) location in the \"vs\" list\n",
    "def f_location (ks, a):\n",
    "    location = ks.index(a)\n",
    "    return location"
   ]
  },
  {
   "cell_type": "code",
   "execution_count": 19,
   "id": "22b0cbc0",
   "metadata": {},
   "outputs": [],
   "source": [
    "# find the row i position\n",
    "def first(vs, idex_pos):\n",
    "    location = vs[idex_pos]\n",
    "#     print(location)\n",
    "    i = location[0]\n",
    "    return i\n",
    "\n",
    "\n",
    "# i = first(neighbours, cell)\n",
    "# print(i)\n",
    "# print(type(i))"
   ]
  },
  {
   "cell_type": "code",
   "execution_count": 20,
   "id": "c0a5735b",
   "metadata": {},
   "outputs": [],
   "source": [
    "# find the column j position\n",
    "def second (vs, idex_pos):\n",
    "    location = vs[idex_pos]\n",
    "    j = location[1]\n",
    "    return j\n",
    "\n",
    "# j = second(neighbours, cell)\n",
    "# print(j)\n",
    "# print(type(j))END = ARRAY[HEIGHT - 1, WIDTH - 1]"
   ]
  },
  {
   "cell_type": "code",
   "execution_count": 21,
   "id": "51ca39d6",
   "metadata": {},
   "outputs": [],
   "source": [
    "# test game\n",
    "game_is_on = True\n",
    "\n",
    "score = []\n",
    "\n",
    "next_cell = ARRAY[0, 0]\n",
    "score.append(next_cell)\n",
    "neighbours = {next_cell: (0, 0)}\n",
    "\n",
    "prev_cell = ARRAY[0, 0]\n",
    "prev_l = [(0, 0)]\n",
    "\n",
    "i=0\n",
    "j=0"
   ]
  },
  {
   "cell_type": "code",
   "execution_count": 22,
   "id": "e40da663",
   "metadata": {},
   "outputs": [
    {
     "name": "stdout",
     "output_type": "stream",
     "text": [
      "[0, 4]\n",
      "[0, 4, 7]\n",
      "[0, 4, 7, 3]\n",
      "[0, 4, 7, 3, 6]\n",
      "[0, 4, 7, 3, 6, 0]\n"
     ]
    }
   ],
   "source": [
    "while game_is_on:\n",
    "    if game_mode == 1:\n",
    "\n",
    "        neighbours = f_neighbours(ARRAY, i, j) #finds all neighbours\n",
    "        ks= neighbours[0] #key values - the \"weight\"\n",
    "        vs = neighbours[1] # values - the location(i,j)\n",
    "\n",
    "    #     print(ks)\n",
    "    #     print(vs)\n",
    "        #if next_cell is our destination cell then the program stops\n",
    "        if (HEIGHT-1, WIDTH-1) in vs:\n",
    "            score.append(ARRAY[HEIGHT-1, WIDTH-1])\n",
    "            prev_l.append([HEIGHT-1, WIDTH-1])\n",
    "            game_is_on = False\n",
    "\n",
    "        else:\n",
    "            next_cell = f_cell(ks) #finding the minimum value cell\n",
    "            index_pos = f_location(ks, next_cell)\n",
    "\n",
    "\n",
    "\n",
    "\n",
    "            #if the smallest one  - the previous one, chose the other smallest\n",
    "            for _ in range (len(neighbours)): # number of neighbours need to be tested for the \"visited\" status\n",
    "\n",
    "                if vs[index_pos] in prev_l:\n",
    "                    ks.remove(next_cell)\n",
    "                    del(vs[index_pos])\n",
    "                    next_cell = f_cell(ks) #finding the minimum value cell\n",
    "                    index_pos = f_location(ks, next_cell)\n",
    "\n",
    "            #if the smallest one - (width-1, , chosee the other one\n",
    "            if (vs[index_pos][0] == 0 and vs[index_pos][1] == j-1) or (vs[index_pos][0] == (WIDTH-1) and vs[index_pos][1] == j-1) or (vs[index_pos][0] == (i-1) and vs[index_pos][1] == HEIGHT-1) or (vs[index_pos][0] == (i-1) and vs[index_pos][1] == 0):\n",
    "                ks.remove(next_cell)\n",
    "                del(vs[index_pos])\n",
    "                next_cell = f_cell(ks) #finding the minimum value cell\n",
    "                index_pos = f_location(ks, next_cell)\n",
    "\n",
    "\n",
    "            score.append(next_cell)\n",
    "\n",
    "            prev_cell=next_cell\n",
    "            prev_l.append(vs[index_pos])\n",
    "\n",
    "            i = first(vs, index_pos)\n",
    "            j = second(vs, index_pos)\n",
    "            print(score)\n",
    "\n",
    "\n",
    "            \n",
    "    if game_mode == 2:\n",
    "        neighbours = f_neighbours(ARRAY, i, j) #finds all neighbours\n",
    "        ks= neighbours[0] #key values - the \"weight\"\n",
    "        vs = neighbours[1] # values - the location(i,j)\n",
    "\n",
    "    #     print(ks)\n",
    "    #     print(vs)\n",
    "        #if next_cell is our destination cell then the program stops\n",
    "        if (HEIGHT-1, WIDTH-1) in vs:\n",
    "            score.append(ARRAY[HEIGHT-1, WIDTH-1])\n",
    "            prev_l.append([HEIGHT-1, WIDTH-1])\n",
    "            game_is_on = False\n",
    "\n",
    "        else:\n",
    "            small_d, next_cell  = f_distance (ks, next_cell) # finds smallest distance\n",
    "            index_pos = f_location(ks, next_cell)\n",
    "            \n",
    "            #if the smallest one  - the previous one, chose the other smallest\n",
    "            for _ in range (len(neighbours)): # number of neighbours need to be tested for the \"visited\" status\n",
    "                if vs[index_pos] in prev_l:\n",
    "                    ks.remove(next_cell)\n",
    "                    del(vs[index_pos])\n",
    "                    small_d, next_cell  = f_distance (ks, next_cell) # finds smallest distance\n",
    "                    index_pos = f_location(ks, next_cell)\n",
    "\n",
    "            #if the smallest one - (width-1, , chosee the other one\n",
    "            if (vs[index_pos][0] == 0 and vs[index_pos][1] == j-1) or (vs[index_pos][0] == (WIDTH-1) and vs[index_pos][1] == j-1) or (vs[index_pos][0] == (i-1) and vs[index_pos][1] == HEIGHT-1) or (vs[index_pos][0] == (i-1) and vs[index_pos][1] == 0):\n",
    "                ks.remove(next_cell)\n",
    "                del(vs[index_pos])\n",
    "                small_d, next_cell  = f_distance (ks, next_cell) # finds smallest distance\n",
    "                index_pos = f_location(ks, next_cell)\n",
    "\n",
    "\n",
    "            score.append(small_d)\n",
    "\n",
    "            prev_cell=next_cell\n",
    "            prev_l.append(vs[index_pos])\n",
    "\n",
    "            i = first(vs, index_pos)\n",
    "            j = second(vs, index_pos)\n",
    "            print(score)\n",
    "\n",
    "# print(score)\n",
    "# len(score)"
   ]
  },
  {
   "cell_type": "code",
   "execution_count": 23,
   "id": "d5d6d4dd",
   "metadata": {},
   "outputs": [
    {
     "name": "stdout",
     "output_type": "stream",
     "text": [
      "[0, 4, 7, 3, 6, 0, 0]\n",
      "End of the game. Your final score for mode 1 is 20\n"
     ]
    }
   ],
   "source": [
    "total = sum(score)  #sum of the score\n",
    "print(score)\n",
    "print (f\"End of the game. Your final score for mode 1 is {total}\")"
   ]
  },
  {
   "cell_type": "markdown",
   "id": "f363a95c",
   "metadata": {},
   "source": [
    "[Back to top](#Content:)\n",
    "\n",
    "\n",
    "<a id='part2.1'></a>\n",
    "## Visualisation of implementation of Djikstra algorithm"
   ]
  },
  {
   "cell_type": "code",
   "execution_count": 24,
   "id": "670ee583",
   "metadata": {},
   "outputs": [
    {
     "data": {
      "image/png": "[encoded data removed]",
      "text/plain": [
       "<Figure size 432x288 with 1 Axes>"
      ]
     },
     "metadata": {
      "needs_background": "light"
     },
     "output_type": "display_data"
    }
   ],
   "source": [
    "# path = [list(x) for x in prev_l]\n",
    "# type(path)\n",
    "fig = plt.figure()\n",
    "ax = fig.add_subplot(111)\n",
    "\n",
    "colored_path = np.zeros((HEIGHT,WIDTH), dtype=int)\n",
    "\n",
    "for list in prev_l:\n",
    "    r= list[0]\n",
    "    c = list[1]\n",
    "    colored_path[r,c] = 1\n",
    "# print(colored_path)\n",
    "\n",
    "\n",
    "min_val, max_val = 0, HEIGHT\n",
    "for i in range(max_val):\n",
    "    for j in range(max_val):\n",
    "      c = ARRAY[j,i]\n",
    "      ax.text(i, j, str(c), va='center', ha='center')\n",
    "\n",
    "cax = ax.matshow(colored_path, cmap = plt.cm.Reds)\n",
    "plt.show()"
   ]
  },
  {
   "cell_type": "code",
   "execution_count": null,
   "id": "79b6218b",
   "metadata": {},
   "outputs": [],
   "source": []
  }
 ],
 "metadata": {
  "kernelspec": {
   "display_name": "Python 3 (ipykernel)",
   "language": "python",
   "name": "python3"
  },
  "language_info": {
   "codemirror_mode": {
    "name": "ipython",
    "version": 3
   },
   "file_extension": ".py",
   "mimetype": "text/x-python",
   "name": "python",
   "nbconvert_exporter": "python",
   "pygments_lexer": "ipython3",
   "version": "3.8.8"
  }
 },
 "nbformat": 4,
 "nbformat_minor": 5
}
