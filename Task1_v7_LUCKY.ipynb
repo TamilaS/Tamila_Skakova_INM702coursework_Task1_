{
 "cells": [
  {
   "cell_type": "code",
   "execution_count": 1,
   "id": "e20a67f8",
   "metadata": {},
   "outputs": [],
   "source": [
    "#Build a method to build and visualize the grid filled with random numbers.\n",
    "import random\n",
    "import numpy as np"
   ]
  },
  {
   "cell_type": "code",
   "execution_count": 2,
   "id": "7af0d661",
   "metadata": {},
   "outputs": [
    {
     "name": "stdout",
     "output_type": "stream",
     "text": [
      "Insert amount of rows in the grid 8\n",
      "Insert amount of columns in the grid 8\n"
     ]
    }
   ],
   "source": [
    "HEIGHT = int(input(\"Insert amount of rows in the grid \"))\n",
    "WIDTH = int(input(\"Insert amount of columns in the grid \"))"
   ]
  },
  {
   "cell_type": "code",
   "execution_count": 3,
   "id": "3bb5a1bd",
   "metadata": {
    "scrolled": true
   },
   "outputs": [
    {
     "name": "stdout",
     "output_type": "stream",
     "text": [
      "[[4 3 3 2 1 2 2 2]\n",
      " [7 8 0 8 3 5 5 0]\n",
      " [3 2 5 5 8 5 5 5]\n",
      " [6 4 4 3 3 1 0 4]\n",
      " [3 7 5 0 4 3 4 4]\n",
      " [7 3 8 0 5 1 5 0]\n",
      " [0 4 4 5 0 0 6 7]\n",
      " [8 8 7 1 7 4 5 6]]\n"
     ]
    }
   ],
   "source": [
    "ARRAY = np.random.randint(0,9, (HEIGHT, WIDTH))\n",
    "print(ARRAY)"
   ]
  },
  {
   "cell_type": "code",
   "execution_count": 4,
   "id": "19791193",
   "metadata": {},
   "outputs": [
    {
     "data": {
      "text/plain": [
       "[8, 2, 3, 3, 1, 4, 5, 4, 3, 4, 1, 1, 4, 0, 5, 7, 5]"
      ]
     },
     "execution_count": 4,
     "metadata": {},
     "output_type": "execute_result"
    }
   ],
   "source": [
    "[8, 2, 3, 3, 1, 4, 5, 4, 3, 4, 1, 1, 4, 0, 5, 7, 5]"
   ]
  },
  {
   "cell_type": "code",
   "execution_count": 5,
   "id": "c49bd3eb",
   "metadata": {},
   "outputs": [],
   "source": [
    "#finding neihbour in the grid for each cell\n",
    "#agent moves from cell to cell (u,d,l,r)\n",
    "def f_neighbours(array, i, j):\n",
    "    neighbours_k = []\n",
    "    neighbours_v = []\n",
    "    while True:\n",
    "        if i >= HEIGHT or j >= WIDTH:\n",
    "            False\n",
    "            \n",
    "        #neighbors search goes cloclwise:\n",
    "        elif i == 0 or i == (HEIGHT-1) or j == 0 or j == (WIDTH - 1):    # corners and sides\n",
    "            \n",
    "            if i != 0:\n",
    "                neighbours_k.append(array[i - 1, j])\n",
    "                neighbours_v.append((i - 1,j)) # u\n",
    "                \n",
    "            if j != (WIDTH - 1):             \n",
    "                neighbours_k.append(array[i, j+1])\n",
    "                neighbours_v.append((i, j+1))#r\n",
    "                \n",
    "            if i != (HEIGHT-1):\n",
    "                neighbours_k.append(array[i+1,j])\n",
    "                neighbours_v.append((i+1, j))#d\n",
    "                                    \n",
    "#             if j != 0:                  \n",
    "#                 neighbours_k.append(array[i, j-1]) # l\n",
    "#                 neighbours_v.append((i,j - 1)) \n",
    "                \n",
    "\n",
    "        elif i < HEIGHT and j < WIDTH:\n",
    "            neighbours_k = [array[i - 1, j], array[i, j + 1], array[i + 1, j]]  #, array[i, j - 1]]\n",
    "            neighbours_v = [(i - 1,j), (i,j + 1), (i + 1,j)] #(i,j - 1)\n",
    "        return neighbours_k, neighbours_v\n",
    "\n",
    "\n",
    "# neighbours = f_neighbours(array=ARRAY, i=2,j=1)\n",
    "# # neighbours = neighbours(ARRAY, 0, 0)\n",
    "# print(neighbours)\n",
    "# type(neighbours)\n",
    "# ks= neighbours[0]\n",
    "# vs = neighbours[1]\n",
    "# print(ks)\n",
    "# print(vs)"
   ]
  },
  {
   "cell_type": "code",
   "execution_count": 6,
   "id": "49f9c14a",
   "metadata": {},
   "outputs": [],
   "source": [
    "ks = [1, 3, 0, 3]\n",
    "\n",
    "def f_cell (ks):\n",
    "    min_val=min(ks)\n",
    "    return min_val\n",
    "        \n",
    "# a = f_min(ks)\n",
    "# print(a)\n"
   ]
  },
  {
   "cell_type": "code",
   "execution_count": 7,
   "id": "f13ccda8",
   "metadata": {},
   "outputs": [],
   "source": [
    "def f_location (ks, a):\n",
    "    location = ks.index(a)\n",
    "    return location"
   ]
  },
  {
   "cell_type": "code",
   "execution_count": 8,
   "id": "0e207be4",
   "metadata": {},
   "outputs": [],
   "source": [
    "# find the row i position\n",
    "def first(vs, idex_pos):\n",
    "    location = vs[idex_pos]\n",
    "#     print(location)\n",
    "    i = location[0]\n",
    "    return i\n",
    "\n",
    "\n",
    "# i = first(neighbours, cell)\n",
    "# print(i)\n",
    "# print(type(i))"
   ]
  },
  {
   "cell_type": "code",
   "execution_count": 9,
   "id": "cdd1f978",
   "metadata": {},
   "outputs": [],
   "source": [
    "# find the column j position\n",
    "def second (vs, idex_pos):\n",
    "    location = vs[idex_pos]\n",
    "    j = location[1]\n",
    "    return j\n",
    "\n",
    "# j = second(neighbours, cell)\n",
    "# print(j)\n",
    "# print(type(j))END = ARRAY[HEIGHT - 1, WIDTH - 1]"
   ]
  },
  {
   "cell_type": "code",
   "execution_count": 10,
   "id": "2519eff7",
   "metadata": {},
   "outputs": [],
   "source": [
    "# test game\n",
    "game_is_on = True\n",
    "\n",
    "score = []\n",
    "\n",
    "next_cell = ARRAY[0, 0]\n",
    "score.append(next_cell)\n",
    "neighbours = {next_cell: (0, 0)}\n",
    "\n",
    "prev_cell = ARRAY[0, 0]\n",
    "prev_l = [(0, 0)]\n",
    "\n",
    "i=0\n",
    "j=0"
   ]
  },
  {
   "cell_type": "code",
   "execution_count": 37,
   "id": "4040d9a5",
   "metadata": {},
   "outputs": [
    {
     "name": "stdout",
     "output_type": "stream",
     "text": [
      "[4, 3, 3, 0, 5, 4, 3, 0, 0, 5, 0, 0, 1, 3, 1, 0, 4, 4, 0, 7, 0]\n"
     ]
    },
    {
     "data": {
      "text/plain": [
       "21"
      ]
     },
     "execution_count": 37,
     "metadata": {},
     "output_type": "execute_result"
    }
   ],
   "source": [
    "while game_is_on:\n",
    "\n",
    "    neighbours = f_neighbours(ARRAY, i, j) #finds all neighbours\n",
    "    ks= neighbours[0]\n",
    "    vs = neighbours[1]\n",
    "   \n",
    "    print(ks)\n",
    "    print(vs)\n",
    "    if (HEIGHT-1, WIDTH-1) in vs:\n",
    "        next_cell = ARRAY[HEIGHT-1, WIDTH-1]\n",
    "        game_is_on = False\n",
    "    \n",
    "    else:\n",
    "        next_cell = f_cell(ks) #finding the minimum value cell\n",
    "        index_pos = f_location(ks, next_cell)\n",
    "    \n",
    "    #if the smallest one  - the previous one, chose the other smallest\n",
    "    if vs[index_pos] in prev_l:\n",
    "        ks.remove(next_cell)\n",
    "        del(vs[index_pos])\n",
    "        next_cell = f_cell(ks)\n",
    "        index_pos = f_location(ks, next_cell)\n",
    "\n",
    "\n",
    "    score.append(next_cell)\n",
    "\n",
    "    prev_cell=next_cell\n",
    "    prev_l.append(vs[index_pos])\n",
    "\n",
    "    i = first(vs, index_pos)\n",
    "    j = second(vs, index_pos)\n",
    "    \n",
    "    #if next_cell is our destination cell then the program stops\n",
    "    if vs[index_pos] == (HEIGHT-1, WIDTH-1):\n",
    "        game_is_on = False\n",
    "        \n",
    "print(score)\n",
    "len(score)"
   ]
  },
  {
   "cell_type": "code",
   "execution_count": 16,
   "id": "1c143414",
   "metadata": {},
   "outputs": [
    {
     "name": "stdout",
     "output_type": "stream",
     "text": [
      "End of the game. Your final score is 47\n"
     ]
    }
   ],
   "source": [
    "total = sum(score)  #sum of the list with weight of each step\n",
    "print (f\"End of the game. Your final score is {total}\")"
   ]
  },
  {
   "cell_type": "code",
   "execution_count": 36,
   "id": "3f6d8bc7",
   "metadata": {},
   "outputs": [
    {
     "name": "stdout",
     "output_type": "stream",
     "text": [
      "[(0, 0), (0, 1), (0, 2), (1, 2), (2, 2), (3, 2), (3, 3), (4, 3), (5, 3), (5, 4), (6, 4), (6, 5), (5, 5), (4, 5), (3, 5), (3, 6), (3, 7), (4, 7), (5, 7), (6, 7), (7, 7)]\n"
     ]
    },
    {
     "data": {
      "text/plain": [
       "21"
      ]
     },
     "execution_count": 36,
     "metadata": {},
     "output_type": "execute_result"
    }
   ],
   "source": [
    "print(prev_l)\n",
    "len(prev_l)"
   ]
  },
  {
   "cell_type": "code",
   "execution_count": 26,
   "id": "df5dc510",
   "metadata": {},
   "outputs": [
    {
     "name": "stdout",
     "output_type": "stream",
     "text": [
      "3.5\n"
     ]
    }
   ],
   "source": [
    "from statistics import median\n",
    "list_new = [score[0],score[1]]\n",
    "m=median(list_new)\n",
    "print (m)"
   ]
  },
  {
   "cell_type": "code",
   "execution_count": 27,
   "id": "6b2ab3d1",
   "metadata": {},
   "outputs": [
    {
     "name": "stdout",
     "output_type": "stream",
     "text": [
      "[3.5]\n"
     ]
    }
   ],
   "source": [
    "median_list =[]\n",
    "median_list.append(m)\n",
    "print(median_list)"
   ]
  },
  {
   "cell_type": "code",
   "execution_count": null,
   "id": "e1175060",
   "metadata": {},
   "outputs": [],
   "source": []
  },
  {
   "cell_type": "code",
   "execution_count": null,
   "id": "942fd0a8",
   "metadata": {},
   "outputs": [],
   "source": []
  }
 ],
 "metadata": {
  "kernelspec": {
   "display_name": "Python 3 (ipykernel)",
   "language": "python",
   "name": "python3"
  },
  "language_info": {
   "codemirror_mode": {
    "name": "ipython",
    "version": 3
   },
   "file_extension": ".py",
   "mimetype": "text/x-python",
   "name": "python",
   "nbconvert_exporter": "python",
   "pygments_lexer": "ipython3",
   "version": "3.8.8"
  }
 },
 "nbformat": 4,
 "nbformat_minor": 5
}
