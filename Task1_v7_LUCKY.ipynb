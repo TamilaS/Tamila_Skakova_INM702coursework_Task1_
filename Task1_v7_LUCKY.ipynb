{
 "cells": [
  {
   "cell_type": "markdown",
   "id": "b7ef66c3",
   "metadata": {},
   "source": [
    "### Introduction\n"
   ]
  },
  {
   "cell_type": "markdown",
   "id": "714aea85",
   "metadata": {},
   "source": [
    "### Content"
   ]
  },
  {
   "cell_type": "markdown",
   "id": "734979d5",
   "metadata": {},
   "source": [
    "### Heuristic Approach\n",
    "### Mode 1"
   ]
  },
  {
   "cell_type": "code",
   "execution_count": 1,
   "id": "e20a67f8",
   "metadata": {},
   "outputs": [],
   "source": [
    "#Build a method to build and visualize the grid filled with random numbers.\n",
    "import random\n",
    "import numpy as np\n",
    "import matplotlib.pyplot as plt\n",
    "from matplotlib.colors import ListedColormap"
   ]
  },
  {
   "cell_type": "code",
   "execution_count": 2,
   "id": "7af0d661",
   "metadata": {},
   "outputs": [
    {
     "name": "stdout",
     "output_type": "stream",
     "text": [
      "Insert amount of rows in the grid 30\n",
      "Insert amount of columns in the grid 30\n"
     ]
    }
   ],
   "source": [
    "HEIGHT = int(input(\"Insert amount of rows in the grid \"))\n",
    "WIDTH = int(input(\"Insert amount of columns in the grid \"))"
   ]
  },
  {
   "cell_type": "code",
   "execution_count": 3,
   "id": "3bb5a1bd",
   "metadata": {
    "scrolled": true
   },
   "outputs": [
    {
     "name": "stdout",
     "output_type": "stream",
     "text": [
      "[[5 1 3 4 4 3 7 0 1 3 5 8 6 4 0 6 3 6 3 6 6 7 1 0 0 8 5 8 2 0]\n",
      " [8 6 8 0 1 8 6 0 0 4 2 3 5 2 2 8 6 3 3 5 7 0 6 7 5 2 4 7 3 7]\n",
      " [0 0 4 8 7 0 6 5 1 5 8 0 4 0 4 3 8 3 5 7 3 4 4 4 4 7 1 0 4 4]\n",
      " [4 6 0 4 2 7 4 8 4 3 8 4 7 5 4 3 3 4 7 7 2 3 8 3 2 2 1 8 1 8]\n",
      " [1 5 5 3 0 6 6 3 4 3 3 8 6 7 1 0 5 2 3 1 5 6 6 8 0 8 2 2 8 1]\n",
      " [3 1 8 1 6 6 7 8 6 8 1 3 0 0 5 7 6 6 8 7 0 3 6 5 2 0 2 8 4 3]\n",
      " [5 4 5 5 8 2 6 4 1 7 5 6 4 2 3 2 8 5 7 5 6 5 4 4 2 4 7 2 1 1]\n",
      " [5 7 2 3 4 6 1 0 4 0 5 4 6 7 3 8 0 6 3 2 2 6 1 8 8 3 3 8 5 1]\n",
      " [6 2 0 5 0 8 5 7 8 4 4 0 6 2 3 3 6 2 0 0 6 6 6 1 3 3 1 6 7 4]\n",
      " [4 2 0 5 4 6 6 2 6 2 4 1 7 4 4 5 5 4 3 1 0 3 4 7 2 6 7 5 4 0]\n",
      " [1 0 1 2 7 4 0 7 4 1 4 3 4 0 0 6 4 3 4 2 7 6 2 5 7 5 3 3 1 3]\n",
      " [3 4 3 8 6 2 5 7 3 4 7 0 2 3 7 0 2 3 3 7 3 6 0 4 1 1 4 2 6 7]\n",
      " [4 3 4 0 8 4 0 6 6 4 5 7 2 5 8 6 1 4 0 6 3 2 5 7 0 4 0 6 2 3]\n",
      " [4 1 0 6 3 7 8 8 2 8 0 4 4 5 3 0 6 6 0 3 6 4 1 1 2 1 2 5 8 2]\n",
      " [5 0 5 2 1 5 7 5 3 5 0 4 4 5 7 1 1 3 6 8 2 3 2 5 4 8 7 2 8 4]\n",
      " [6 3 1 0 3 0 7 1 5 0 5 3 6 1 8 4 1 6 6 0 1 1 3 2 4 0 3 3 6 7]\n",
      " [0 6 7 2 7 8 2 5 6 1 1 3 6 6 2 7 5 6 2 5 1 4 2 1 3 1 1 1 0 6]\n",
      " [1 8 4 1 5 6 3 4 2 2 2 7 3 4 2 6 5 6 6 3 4 5 3 0 2 6 1 3 4 6]\n",
      " [7 4 3 7 6 2 8 8 0 5 7 2 5 8 4 6 6 4 8 4 8 3 3 2 4 5 7 2 5 5]\n",
      " [4 1 5 1 0 2 4 2 5 8 5 7 1 6 3 7 6 8 0 5 1 0 6 4 3 4 1 3 5 2]\n",
      " [2 4 8 3 7 6 2 0 0 3 4 4 2 4 3 5 7 1 1 3 1 0 7 2 1 2 6 7 5 4]\n",
      " [8 7 4 7 8 8 7 1 4 7 0 7 7 1 3 2 3 8 5 0 1 0 1 1 4 6 7 4 8 0]\n",
      " [0 7 2 3 1 3 4 5 0 6 0 7 6 2 7 6 0 4 4 3 0 2 0 0 2 0 8 7 2 2]\n",
      " [4 5 6 0 5 7 4 3 5 8 1 2 0 1 6 3 3 3 3 2 6 1 0 4 2 7 0 5 5 8]\n",
      " [2 3 0 2 8 1 2 5 0 0 1 3 7 2 3 3 5 1 1 0 0 7 7 6 4 1 4 2 4 0]\n",
      " [2 0 4 7 5 4 8 0 8 8 6 6 5 4 1 7 1 6 7 2 8 8 1 7 5 8 0 0 5 4]\n",
      " [2 0 6 0 3 1 4 8 1 2 6 5 0 5 8 5 5 0 6 3 5 4 2 2 6 3 7 6 4 0]\n",
      " [2 8 4 2 2 3 5 7 6 2 5 6 6 1 3 4 8 2 3 2 8 1 0 4 4 3 2 6 3 5]\n",
      " [7 6 0 7 7 7 6 3 1 4 6 6 5 0 0 7 4 2 1 5 4 8 4 8 7 5 3 8 8 5]\n",
      " [7 4 0 7 5 4 5 6 7 8 1 1 5 0 4 5 1 0 4 0 7 7 0 7 4 3 0 4 8 3]]\n"
     ]
    }
   ],
   "source": [
    "ARRAY = np.random.randint(0,9, (HEIGHT, WIDTH))\n",
    "print(ARRAY)"
   ]
  },
  {
   "cell_type": "code",
   "execution_count": 4,
   "id": "c49bd3eb",
   "metadata": {},
   "outputs": [],
   "source": [
    "#finding neihbour in the grid for each cell\n",
    "#agent moves from cell to cell (u,d,l,r)\n",
    "def f_neighbours(array, i, j):\n",
    "    neighbours_k = []\n",
    "    neighbours_v = []\n",
    "    while True:\n",
    "        if i >= HEIGHT or j >= WIDTH:\n",
    "            False\n",
    "            \n",
    "        #neighbors search goes cloclwise:\n",
    "        elif i == 0 or i == (HEIGHT-1) or j == 0 or j == (WIDTH - 1):    # corners and sides\n",
    "            \n",
    "            if i != 0:\n",
    "                neighbours_k.append(array[i - 1, j])\n",
    "                neighbours_v.append((i - 1,j)) # u\n",
    "                \n",
    "            if j != (WIDTH - 1):             \n",
    "                neighbours_k.append(array[i, j+1])\n",
    "                neighbours_v.append((i, j+1))#r\n",
    "                \n",
    "            if i != (HEIGHT-1):\n",
    "                neighbours_k.append(array[i+1,j])\n",
    "                neighbours_v.append((i+1, j))#d\n",
    "                                    \n",
    "#             if j != 0:                  \n",
    "#                 neighbours_k.append(array[i, j-1]) # l\n",
    "#                 neighbours_v.append((i,j - 1)) \n",
    "                \n",
    "\n",
    "        elif i < HEIGHT and j < WIDTH:\n",
    "            neighbours_k = [array[i - 1, j], array[i, j + 1], array[i + 1, j]]  #, array[i, j - 1]]\n",
    "            neighbours_v = [(i - 1,j), (i,j + 1), (i + 1,j)] #(i,j - 1)\n",
    "        return neighbours_k, neighbours_v\n",
    "\n",
    "\n",
    "# neighbours = f_neighbours(array=ARRAY, i=2,j=1)\n",
    "# # neighbours = neighbours(ARRAY, 0, 0)\n",
    "# print(neighbours)\n",
    "# type(neighbours)\n",
    "# ks= neighbours[0]\n",
    "# vs = neighbours[1]\n",
    "# print(ks)\n",
    "# print(vs)"
   ]
  },
  {
   "cell_type": "code",
   "execution_count": 5,
   "id": "49f9c14a",
   "metadata": {},
   "outputs": [],
   "source": [
    "ks = [1, 3, 0, 3]\n",
    "\n",
    "def f_cell (ks):\n",
    "    min_val=min(ks)\n",
    "    return min_val\n",
    "        \n",
    "# a = f_min(ks)\n",
    "# print(a)\n"
   ]
  },
  {
   "cell_type": "code",
   "execution_count": 6,
   "id": "f13ccda8",
   "metadata": {},
   "outputs": [],
   "source": [
    "def f_location (ks, a):\n",
    "    location = ks.index(a)\n",
    "    return location"
   ]
  },
  {
   "cell_type": "code",
   "execution_count": 7,
   "id": "0e207be4",
   "metadata": {},
   "outputs": [],
   "source": [
    "# find the row i position\n",
    "def first(vs, idex_pos):\n",
    "    location = vs[idex_pos]\n",
    "#     print(location)\n",
    "    i = location[0]\n",
    "    return i\n",
    "\n",
    "\n",
    "# i = first(neighbours, cell)\n",
    "# print(i)\n",
    "# print(type(i))"
   ]
  },
  {
   "cell_type": "code",
   "execution_count": 8,
   "id": "cdd1f978",
   "metadata": {},
   "outputs": [],
   "source": [
    "# find the column j position\n",
    "def second (vs, idex_pos):\n",
    "    location = vs[idex_pos]\n",
    "    j = location[1]\n",
    "    return j\n",
    "\n",
    "# j = second(neighbours, cell)\n",
    "# print(j)\n",
    "# print(type(j))END = ARRAY[HEIGHT - 1, WIDTH - 1]"
   ]
  },
  {
   "cell_type": "code",
   "execution_count": 9,
   "id": "2519eff7",
   "metadata": {},
   "outputs": [],
   "source": [
    "# test game\n",
    "game_is_on = True\n",
    "\n",
    "score = []\n",
    "\n",
    "next_cell = ARRAY[0, 0]\n",
    "score.append(next_cell)\n",
    "neighbours = {next_cell: (0, 0)}\n",
    "\n",
    "prev_cell = ARRAY[0, 0]\n",
    "prev_l = [(0, 0)]\n",
    "\n",
    "i=0\n",
    "j=0"
   ]
  },
  {
   "cell_type": "code",
   "execution_count": 10,
   "id": "4040d9a5",
   "metadata": {},
   "outputs": [
    {
     "name": "stdout",
     "output_type": "stream",
     "text": [
      "[5, 1, 3, 4, 0, 1, 4, 3, 7, 0, 0, 0, 1, 3, 4, 2, 3, 0, 4, 0, 2, 2, 0, 6, 3, 6, 3, 3, 5, 6, 6, 7, 0, 4, 3, 6, 3, 5, 4, 1, 6, 1, 3, 2, 6, 3, 1, 3, 7, 2, 2, 1, 1, 0, 4, 1, 8, 1, 3, 1, 1, 4, 0, 3, 7, 3, 2, 4, 7, 6, 6, 5, 2, 4, 0, 2, 8, 0, 4, 0, 5, 5, 5]\n"
     ]
    },
    {
     "data": {
      "text/plain": [
       "83"
      ]
     },
     "execution_count": 10,
     "metadata": {},
     "output_type": "execute_result"
    }
   ],
   "source": [
    "while game_is_on:\n",
    "\n",
    "    neighbours = f_neighbours(ARRAY, i, j) #finds all neighbours\n",
    "    ks= neighbours[0]\n",
    "    vs = neighbours[1]\n",
    "   \n",
    "#     print(ks)\n",
    "#     print(vs)\n",
    "    if (HEIGHT-1, WIDTH-1) in vs:\n",
    "        next_cell = ARRAY[HEIGHT-1, WIDTH-1]\n",
    "        game_is_on = False\n",
    "    \n",
    "    else:\n",
    "        next_cell = f_cell(ks) #finding the minimum value cell\n",
    "        index_pos = f_location(ks, next_cell)\n",
    "    \n",
    "    #if the smallest one  - the previous one, chose the other smallest\n",
    "    if vs[index_pos] in prev_l:\n",
    "        ks.remove(next_cell)\n",
    "        del(vs[index_pos])\n",
    "        next_cell = f_cell(ks)\n",
    "        index_pos = f_location(ks, next_cell)\n",
    "\n",
    "\n",
    "    score.append(next_cell)\n",
    "\n",
    "    prev_cell=next_cell\n",
    "    prev_l.append(vs[index_pos])\n",
    "\n",
    "    i = first(vs, index_pos)\n",
    "    j = second(vs, index_pos)\n",
    "    \n",
    "    #if next_cell is our destination cell then the program stops\n",
    "    if vs[index_pos] == (HEIGHT-1, WIDTH-1):\n",
    "        game_is_on = False\n",
    "        \n",
    "print(score)\n",
    "len(score)"
   ]
  },
  {
   "cell_type": "code",
   "execution_count": 11,
   "id": "1c143414",
   "metadata": {},
   "outputs": [
    {
     "name": "stdout",
     "output_type": "stream",
     "text": [
      "End of the game. Your final score is 259\n"
     ]
    }
   ],
   "source": [
    "total = sum(score)  #sum of the list with weight of each step\n",
    "print (f\"End of the game. Your final score is {total}\")"
   ]
  },
  {
   "cell_type": "code",
   "execution_count": 12,
   "id": "3f6d8bc7",
   "metadata": {},
   "outputs": [
    {
     "name": "stdout",
     "output_type": "stream",
     "text": [
      "[(0, 0), (0, 1), (0, 2), (0, 3), (1, 3), (1, 4), (0, 4), (0, 5), (0, 6), (0, 7), (1, 7), (1, 8), (0, 8), (0, 9), (1, 9), (1, 10), (1, 11), (2, 11), (2, 12), (2, 13), (1, 13), (1, 14), (0, 14), (0, 15), (0, 16), (0, 17), (0, 18), (1, 18), (1, 19), (0, 19), (0, 20), (0, 21), (1, 21), (2, 21), (3, 21), (4, 21), (5, 21), (6, 21), (6, 22), (7, 22), (8, 22), (8, 23), (8, 24), (9, 24), (9, 25), (8, 25), (8, 26), (7, 26), (6, 26), (5, 26), (4, 26), (3, 26), (2, 26), (2, 27), (2, 28), (3, 28), (3, 29), (4, 29), (5, 29), (6, 29), (7, 29), (8, 29), (9, 29), (10, 29), (11, 29), (12, 29), (13, 29), (14, 29), (15, 29), (16, 29), (17, 29), (18, 29), (19, 29), (20, 29), (21, 29), (22, 29), (23, 29), (24, 29), (25, 29), (26, 29), (27, 29), (28, 29), (29, 29)]\n"
     ]
    },
    {
     "data": {
      "text/plain": [
       "83"
      ]
     },
     "execution_count": 12,
     "metadata": {},
     "output_type": "execute_result"
    }
   ],
   "source": [
    "print(prev_l)\n",
    "len(prev_l)"
   ]
  },
  {
   "cell_type": "code",
   "execution_count": null,
   "id": "df5dc510",
   "metadata": {},
   "outputs": [],
   "source": []
  },
  {
   "cell_type": "code",
   "execution_count": null,
   "id": "6b2ab3d1",
   "metadata": {},
   "outputs": [],
   "source": []
  },
  {
   "cell_type": "markdown",
   "id": "4fb0433b",
   "metadata": {},
   "source": [
    "### Visualisation of the path\n"
   ]
  },
  {
   "cell_type": "code",
   "execution_count": 13,
   "id": "942fd0a8",
   "metadata": {},
   "outputs": [],
   "source": [
    "path = [list(x) for x in prev_l]\n",
    "# type(path)"
   ]
  },
  {
   "cell_type": "code",
   "execution_count": 14,
   "id": "cc1e9ebb",
   "metadata": {},
   "outputs": [
    {
     "data": {
      "image/png": "[encoded data removed]",
      "text/plain": [
       "<Figure size 432x288 with 1 Axes>"
      ]
     },
     "metadata": {
      "needs_background": "light"
     },
     "output_type": "display_data"
    }
   ],
   "source": [
    "fig = plt.figure()\n",
    "ax = fig.add_subplot(111)\n",
    "\n",
    "colored_path = np.zeros((HEIGHT,WIDTH), dtype=int)\n",
    "\n",
    "for list in path:\n",
    "    r= list[0]\n",
    "    c = list[1]\n",
    "    colored_path[r,c] = 1\n",
    "# print(colored_path)\n",
    "\n",
    "\n",
    "min_val, max_val = 0, HEIGHT\n",
    "for i in range(max_val):\n",
    "    for j in range(max_val):\n",
    "      c = ARRAY[j,i]\n",
    "      ax.text(i, j, str(c), va='center', ha='center')\n",
    "\n",
    "cax = ax.matshow(colored_path, cmap = plt.cm.Greens)\n",
    "plt.show()"
   ]
  },
  {
   "cell_type": "markdown",
   "id": "cf98ec6f",
   "metadata": {},
   "source": [
    "### mode 2\n"
   ]
  },
  {
   "cell_type": "code",
   "execution_count": 15,
   "id": "40a5b567",
   "metadata": {},
   "outputs": [
    {
     "name": "stdout",
     "output_type": "stream",
     "text": [
      "3.0\n"
     ]
    }
   ],
   "source": [
    "from statistics import median\n",
    "list_new = [score[0],score[1]]\n",
    "m=median(list_new)\n",
    "print (m)"
   ]
  },
  {
   "cell_type": "code",
   "execution_count": 16,
   "id": "d32bbbd1",
   "metadata": {},
   "outputs": [
    {
     "name": "stdout",
     "output_type": "stream",
     "text": [
      "[3.0]\n"
     ]
    }
   ],
   "source": [
    "median_list =[]\n",
    "median_list.append(m)\n",
    "print(median_list)"
   ]
  },
  {
   "cell_type": "markdown",
   "id": "06d96afe",
   "metadata": {},
   "source": []
  }
 ],
 "metadata": {
  "kernelspec": {
   "display_name": "Python 3 (ipykernel)",
   "language": "python",
   "name": "python3"
  },
  "language_info": {
   "codemirror_mode": {
    "name": "ipython",
    "version": 3
   },
   "file_extension": ".py",
   "mimetype": "text/x-python",
   "name": "python",
   "nbconvert_exporter": "python",
   "pygments_lexer": "ipython3",
   "version": "3.8.8"
  }
 },
 "nbformat": 4,
 "nbformat_minor": 5
}
