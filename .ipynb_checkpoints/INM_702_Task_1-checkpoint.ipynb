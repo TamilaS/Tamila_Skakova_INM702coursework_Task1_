{
 "cells": [
  {
   "cell_type": "markdown",
   "id": "d31c02e6",
   "metadata": {},
   "source": [
    "# Task 1 - INM702 Coursework"
   ]
  },
  {
   "cell_type": "markdown",
   "id": "24b0d652",
   "metadata": {},
   "source": [
    "## Content:\n",
    "- **[Part 1](#part1)- Heuristic approach**\n",
    "- [Part 1.1](#part1.1)- Visualisation of heuristic approach\n",
    "- **[Part 2](#part2)- Djikstra algorithm implementation on heuristic approach**\n",
    "- [Part 2.1](#part2.1)- Visualisation of implementation of Djikstra algorithm"
   ]
  },
  {
   "cell_type": "markdown",
   "id": "4b7db718",
   "metadata": {},
   "source": [
    "[Back to top](#Content:)\n",
    "\n",
    "\n",
    "<a id='part1'></a>\n",
    "## Heuristic algorithm"
   ]
  },
  {
   "cell_type": "code",
   "execution_count": 2,
   "id": "86b914e1",
   "metadata": {},
   "outputs": [],
   "source": [
    "#Build a method to build and visualize the grid filled with random numbers.\n",
    "import random\n",
    "import numpy as np\n",
    "from matplotlib.colors import ListedColormap\n",
    "import matplotlib.pyplot as plt"
   ]
  },
  {
   "cell_type": "code",
   "execution_count": 3,
   "id": "ee0bb043",
   "metadata": {},
   "outputs": [
    {
     "name": "stdout",
     "output_type": "stream",
     "text": [
      "Insert amount of rows in the grid 30\n",
      "Insert amount of columns in the grid 30\n"
     ]
    }
   ],
   "source": [
    "HEIGHT = int(input(\"Insert amount of rows in the grid \"))\n",
    "WIDTH = int(input(\"Insert amount of columns in the grid \"))"
   ]
  },
  {
   "cell_type": "code",
   "execution_count": 4,
   "id": "3f892f9f",
   "metadata": {},
   "outputs": [
    {
     "name": "stdout",
     "output_type": "stream",
     "text": [
      "[[1 4 0 7 5 3 4 7 3 8 0 5 5 1 2 2 3 3 6 5 1 5 5 2 7 5 0 8 0 3]\n",
      " [3 7 4 8 2 3 5 0 5 2 1 7 8 2 2 3 6 8 5 1 1 6 0 3 2 3 8 3 4 6]\n",
      " [6 8 6 8 1 2 2 5 7 6 3 4 5 1 5 0 8 0 0 8 6 7 3 5 6 6 4 5 4 3]\n",
      " [1 0 0 8 8 7 1 3 3 5 7 7 4 4 8 4 3 6 5 5 6 8 6 5 8 8 3 5 3 7]\n",
      " [4 3 7 0 5 4 3 3 0 1 8 5 5 3 6 1 4 7 1 8 4 7 3 3 1 6 3 5 2 6]\n",
      " [0 3 7 1 1 4 5 7 5 2 7 7 0 4 2 4 6 3 8 2 6 7 1 7 2 8 0 7 3 5]\n",
      " [7 3 1 8 8 7 7 4 0 6 8 4 8 8 7 4 3 7 0 8 6 0 0 4 4 7 2 2 1 6]\n",
      " [7 8 8 8 6 5 0 1 3 1 8 6 2 4 5 0 3 3 0 1 8 5 6 7 2 8 1 0 2 3]\n",
      " [8 4 5 0 4 2 8 3 4 0 3 3 1 1 2 2 3 1 5 4 0 0 8 0 0 4 5 8 1 7]\n",
      " [2 7 2 1 8 0 0 2 1 2 3 2 5 4 5 2 1 0 0 1 0 1 5 7 6 1 8 2 1 8]\n",
      " [8 3 5 6 0 4 4 5 7 6 8 7 6 1 3 6 3 0 1 1 5 7 4 7 3 8 4 8 5 7]\n",
      " [3 1 6 5 6 3 0 4 6 4 8 1 4 3 8 7 2 0 7 7 2 8 0 4 4 0 5 1 7 3]\n",
      " [4 6 4 7 0 5 0 4 5 2 6 5 1 4 5 6 5 5 1 4 3 8 3 2 8 4 6 1 4 2]\n",
      " [4 8 1 7 0 4 4 2 2 3 2 3 6 8 1 8 0 5 6 5 2 8 5 3 6 0 1 7 0 3]\n",
      " [4 4 4 6 4 6 1 2 8 4 2 0 5 4 2 8 5 1 1 8 8 7 4 8 6 6 4 2 0 6]\n",
      " [5 8 7 6 4 0 8 6 0 5 7 0 6 6 4 3 5 2 6 6 4 4 0 5 4 5 7 7 7 6]\n",
      " [0 5 4 2 3 1 8 2 6 0 6 7 2 2 7 3 0 4 3 8 6 1 5 5 4 1 3 5 2 3]\n",
      " [2 5 1 8 0 6 2 8 2 7 7 8 5 3 6 6 6 6 2 2 5 3 2 0 2 3 6 5 2 3]\n",
      " [4 6 3 7 6 6 1 8 7 4 7 2 3 8 6 7 6 3 7 7 6 4 3 1 2 3 1 8 6 5]\n",
      " [4 6 0 8 2 3 2 6 6 0 0 0 1 5 1 3 4 2 2 2 0 7 5 5 4 4 0 8 5 2]\n",
      " [1 2 0 1 0 1 0 1 5 2 0 7 6 7 7 5 8 5 6 8 1 2 5 7 3 0 5 5 2 1]\n",
      " [0 2 1 3 0 2 5 4 6 0 2 7 7 5 8 6 1 3 1 7 1 3 2 6 8 4 6 7 2 3]\n",
      " [0 7 8 6 4 2 7 0 6 7 3 5 6 8 1 7 1 1 5 0 4 8 3 3 5 5 2 0 1 3]\n",
      " [2 7 1 5 0 6 4 4 7 6 7 3 7 3 3 3 0 6 5 6 3 3 3 3 1 1 3 0 1 8]\n",
      " [7 0 6 0 8 4 5 7 2 6 2 7 6 7 6 6 0 6 8 8 3 4 4 4 4 6 1 0 6 6]\n",
      " [6 3 8 7 1 8 0 6 4 1 4 8 4 4 7 8 5 0 0 2 8 5 4 6 0 5 7 1 8 0]\n",
      " [7 6 2 8 4 5 7 2 5 0 4 3 1 7 5 2 2 0 7 1 0 5 7 1 5 0 2 8 3 3]\n",
      " [7 4 1 0 2 4 2 8 6 2 0 3 5 8 2 2 8 1 6 7 8 8 2 7 4 6 7 7 0 3]\n",
      " [3 2 0 5 1 3 5 3 8 5 5 8 4 4 1 1 6 1 8 0 5 1 2 3 8 6 2 1 8 3]\n",
      " [6 5 4 5 4 4 2 5 5 5 7 8 4 8 8 5 8 3 6 6 6 0 0 6 0 0 4 6 6 6]]\n"
     ]
    }
   ],
   "source": [
    "ARRAY = np.random.randint(0,9, (HEIGHT, WIDTH))\n",
    "print(ARRAY)"
   ]
  },
  {
   "cell_type": "code",
   "execution_count": 5,
   "id": "4d257eac",
   "metadata": {},
   "outputs": [],
   "source": [
    "#finding neihbour in the grid for each cell\n",
    "#agent moves from cell to cell (down and right in the heuristic approach)\n",
    "def f_neighbours(array, i, j):\n",
    "    neighbours_k = []\n",
    "    neighbours_v = []\n",
    "    while True:\n",
    "        if i >= HEIGHT or j >= WIDTH:\n",
    "            False\n",
    "            \n",
    "        #neighbors search goes cloclwise:\n",
    "        elif i == 0 or i == (HEIGHT-1) or j == 0 or j == (WIDTH - 1):    # corners and sides\n",
    "            \n",
    "            if j != (WIDTH - 1):             \n",
    "                neighbours_k.append(array[i, j+1])\n",
    "                neighbours_v.append((i, j+1))#r\n",
    "                \n",
    "            if i != (HEIGHT-1):\n",
    "                neighbours_k.append(array[i+1,j])\n",
    "                neighbours_v.append((i+1, j))#d\n",
    "                \n",
    "\n",
    "        elif i < HEIGHT and j < WIDTH:\n",
    "            neighbours_k = [array[i, j + 1], array[i + 1, j]]  \n",
    "            neighbours_v = [(i,j + 1), (i + 1,j)]  \n",
    "        return neighbours_k, neighbours_v\n"
   ]
  },
  {
   "cell_type": "code",
   "execution_count": 6,
   "id": "af4a884a",
   "metadata": {},
   "outputs": [],
   "source": [
    "# finds the minimum weight of neighbours\n",
    "\n",
    "def f_cell (ks):\n",
    "    min_val=min(ks)\n",
    "    return min_val"
   ]
  },
  {
   "cell_type": "code",
   "execution_count": 7,
   "id": "764a1b97",
   "metadata": {},
   "outputs": [],
   "source": [
    "#finds key value index in the list \"ks\", so that that index position can be used to get the (i,j) location in the \"vs\" list\n",
    "def f_location (ks, a):\n",
    "    location = ks.index(a)\n",
    "    return location"
   ]
  },
  {
   "cell_type": "code",
   "execution_count": 8,
   "id": "9886be5e",
   "metadata": {},
   "outputs": [],
   "source": [
    "# find the row i position\n",
    "def first(vs, idex_pos):\n",
    "    location = vs[idex_pos]\n",
    "#     print(location)\n",
    "    i = location[0]\n",
    "    return i"
   ]
  },
  {
   "cell_type": "code",
   "execution_count": 9,
   "id": "7d603cf5",
   "metadata": {},
   "outputs": [],
   "source": [
    "# find the column j position\n",
    "def second (vs, idex_pos):\n",
    "    location = vs[idex_pos]\n",
    "    j = location[1]\n",
    "    return j\n"
   ]
  },
  {
   "cell_type": "code",
   "execution_count": 10,
   "id": "8ffccfde",
   "metadata": {},
   "outputs": [],
   "source": [
    "# test game\n",
    "game_is_on = True\n",
    "\n",
    "score = []\n",
    "\n",
    "next_cell = ARRAY[0, 0]\n",
    "score.append(next_cell)\n",
    "neighbours = {next_cell: (0, 0)}\n",
    "\n",
    "prev_cell = ARRAY[0, 0]\n",
    "prev_l = [(0, 0)]\n",
    "\n",
    "i=0\n",
    "j=0"
   ]
  },
  {
   "cell_type": "code",
   "execution_count": 11,
   "id": "fb66a2e4",
   "metadata": {},
   "outputs": [],
   "source": [
    "while game_is_on:\n",
    "\n",
    "    neighbours = f_neighbours(ARRAY, i, j) #finds all neighbours\n",
    "    ks= neighbours[0] # list , which keeps record of the key value of the neighbour - its weight\n",
    "    vs = neighbours[1] # list , which keeps record of the value (location) of the neighbour - (i,j)\n",
    "   \n",
    "    # if final destination is the neighbour, go straight to that cell (HEIGHT-1, WIDTH-1)\n",
    "    if (HEIGHT-1, WIDTH-1) in vs:\n",
    "        next_cell = ARRAY[HEIGHT-1, WIDTH-1]\n",
    "        score.append(next_cell)\n",
    "        index_pos = f_location(ks, next_cell)\n",
    "        prev_l.append(vs[index_pos])\n",
    "        game_is_on = False\n",
    "    \n",
    "    else:\n",
    "        next_cell = f_cell(ks) #finding the minimum value cell\n",
    "        index_pos = f_location(ks, next_cell)\n",
    "    \n",
    "        #if the smallest one  - the previous one, chose the other smallest\n",
    "        if vs[index_pos] in prev_l:\n",
    "            ks.remove(next_cell)\n",
    "            del(vs[index_pos])\n",
    "            next_cell = f_cell(ks)\n",
    "            index_pos = f_location(ks, next_cell)\n",
    "\n",
    "\n",
    "        score.append(next_cell)\n",
    "\n",
    "        prev_cell=next_cell\n",
    "        prev_l.append(vs[index_pos])\n",
    "\n",
    "        i = first(vs, index_pos)\n",
    "        j = second(vs, index_pos)\n",
    "\n",
    "    \n",
    "# print(score)\n",
    "# len(score)"
   ]
  },
  {
   "cell_type": "code",
   "execution_count": 12,
   "id": "1ab32979",
   "metadata": {},
   "outputs": [
    {
     "name": "stdout",
     "output_type": "stream",
     "text": [
      "End of the game. Your final score is 178\n"
     ]
    }
   ],
   "source": [
    "total = sum(score)  #sum of the list with weight of each step\n",
    "print (f\"End of the game. Your final score is {total}\")"
   ]
  },
  {
   "cell_type": "markdown",
   "id": "33141308",
   "metadata": {},
   "source": [
    "[Back to top](#Content:)\n",
    "\n",
    "\n",
    "<a id='part1.1'></a>\n",
    "## Visualisation of heuristic approach"
   ]
  },
  {
   "cell_type": "code",
   "execution_count": 13,
   "id": "797870e2",
   "metadata": {},
   "outputs": [
    {
     "data": {
      "image/png": "[encoded data removed]",
      "text/plain": [
       "<Figure size 432x288 with 1 Axes>"
      ]
     },
     "metadata": {
      "needs_background": "light"
     },
     "output_type": "display_data"
    }
   ],
   "source": [
    "fig = plt.figure()\n",
    "ax = fig.add_subplot(111)\n",
    "\n",
    "colored_path = np.zeros((HEIGHT,WIDTH), dtype=int)\n",
    "\n",
    "for list in prev_l:\n",
    "    r= list[0]\n",
    "    c = list[1]\n",
    "    colored_path[r,c] = 1\n",
    "# print(colored_path)\n",
    "\n",
    "\n",
    "min_val, max_val = 0, HEIGHT\n",
    "for i in range(max_val):\n",
    "    for j in range(max_val):\n",
    "      c = ARRAY[j,i]\n",
    "      ax.text(i, j, str(c), va='center', ha='center')\n",
    "\n",
    "cax = ax.matshow(colored_path, cmap = plt.cm.Reds)\n",
    "plt.show()"
   ]
  },
  {
   "cell_type": "markdown",
   "id": "837e23c7",
   "metadata": {},
   "source": [
    "[Back to top](#Content:)\n",
    "\n",
    "\n",
    "<a id='part2'></a>\n",
    "## Djikstra algorithm implementation on heuristic approach\n",
    "Implementation of heuristic approach for Gjikstra algorithm to find the shortest path"
   ]
  },
  {
   "cell_type": "code",
   "execution_count": 14,
   "id": "302844cc",
   "metadata": {},
   "outputs": [
    {
     "name": "stdout",
     "output_type": "stream",
     "text": [
      "Insert amount of rows in the grid 20\n",
      "Insert amount of columns in the grid 20\n"
     ]
    }
   ],
   "source": [
    "HEIGHT = int(input(\"Insert amount of rows in the grid \"))\n",
    "WIDTH = int(input(\"Insert amount of columns in the grid \"))"
   ]
  },
  {
   "cell_type": "code",
   "execution_count": null,
   "id": "50b78e65",
   "metadata": {},
   "outputs": [],
   "source": []
  }
 ],
 "metadata": {
  "kernelspec": {
   "display_name": "Python 3 (ipykernel)",
   "language": "python",
   "name": "python3"
  },
  "language_info": {
   "codemirror_mode": {
    "name": "ipython",
    "version": 3
   },
   "file_extension": ".py",
   "mimetype": "text/x-python",
   "name": "python",
   "nbconvert_exporter": "python",
   "pygments_lexer": "ipython3",
   "version": "3.8.8"
  }
 },
 "nbformat": 4,
 "nbformat_minor": 5
}
